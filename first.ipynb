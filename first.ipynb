{
 "cells": [
  {
   "cell_type": "code",
   "execution_count": null,
   "id": "9c398699",
   "metadata": {
    "vscode": {
     "languageId": "plaintext"
    }
   },
   "outputs": [],
   "source": []
  },
  {
   "cell_type": "markdown",
   "id": "866104f1",
   "metadata": {},
   "source": []
  },
  {
   "cell_type": "markdown",
   "id": "6d99f6b3",
   "metadata": {},
   "source": [
    "## 2025-09-18"
   ]
  },
  {
   "cell_type": "markdown",
   "id": "2179f1c1",
   "metadata": {},
   "source": [
    "### 나의 처음 코딩\n"
   ]
  },
  {
   "cell_type": "markdown",
   "id": "ff133ed3",
   "metadata": {},
   "source": [
    "print(\"hi\")"
   ]
  },
  {
   "cell_type": "markdown",
   "id": "d4222c7f",
   "metadata": {},
   "source": [
    "print('hi')"
   ]
  },
  {
   "cell_type": "markdown",
   "id": "94b8bdb7",
   "metadata": {},
   "source": [
    "print(\"h\")"
   ]
  }
 ],
 "metadata": {
  "language_info": {
   "name": "python"
  }
 },
 "nbformat": 4,
 "nbformat_minor": 5
}
